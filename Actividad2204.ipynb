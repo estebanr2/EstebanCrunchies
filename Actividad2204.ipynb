{
  "nbformat": 4,
  "nbformat_minor": 0,
  "metadata": {
    "colab": {
      "provenance": [],
      "authorship_tag": "ABX9TyNX3yrxpSo/aku7nVIk3O9x",
      "include_colab_link": true
    },
    "kernelspec": {
      "name": "python3",
      "display_name": "Python 3"
    },
    "language_info": {
      "name": "python"
    }
  },
  "cells": [
    {
      "cell_type": "markdown",
      "metadata": {
        "id": "view-in-github",
        "colab_type": "text"
      },
      "source": [
        "<a href=\"https://colab.research.google.com/github/estebanr2/EstebanCrunchies/blob/main/Actividad2204.ipynb\" target=\"_parent\"><img src=\"https://colab.research.google.com/assets/colab-badge.svg\" alt=\"Open In Colab\"/></a>"
      ]
    },
    {
      "cell_type": "markdown",
      "source": [
        "**Numpy Activity**\n",
        "\n",
        "Presented by: Esteban Andres Ruiz Mejia - esteban.ruizm@upb.edu.co"
      ],
      "metadata": {
        "id": "See6BzGoyxLu"
      }
    },
    {
      "cell_type": "code",
      "execution_count": 5,
      "metadata": {
        "colab": {
          "base_uri": "https://localhost:8080/"
        },
        "id": "fzyr-S618Yu_",
        "outputId": "b99a507a-9f41-431e-f436-d72ef7975be6"
      },
      "outputs": [
        {
          "output_type": "stream",
          "name": "stdout",
          "text": [
            "fatal: destination path 'EstebanCrunchies' already exists and is not an empty directory.\n",
            "\n",
            " \u001b[1m•Organized data\u001b[0m \n",
            "\n",
            " [ 70. 120.  70.  50. 110. 110. 110. 130.  90.  90. 120. 110. 120. 110.\n",
            " 110. 110. 100. 110. 110. 110. 100. 110. 100. 100. 110. 110. 100. 120.\n",
            " 120. 110. 100. 110. 100. 110. 120. 120. 110. 110. 110. 140. 110. 100.\n",
            " 110. 100. 150. 150. 160. 100. 120. 140.  90. 130. 120. 100.  50.  50.\n",
            " 100. 100. 120. 100.  90. 110. 110.  80.  90.  90. 110. 110.  90. 110.\n",
            " 140. 100. 110. 110. 100. 100. 110.]\n",
            "\n",
            "•The average calories of the competence are 106.9 , wich are 46.9 more than CrunchieMunchies\n",
            "\n",
            "•The median of competence's calories is  110.0\n",
            "\n",
            "|Percentile 0 | 50.0  calories|\n",
            "|-----------------------------|\n",
            "|Percentile 1 | 50.0  calories|\n",
            "|-----------------------------|\n",
            "|Percentile 2 | 50.0  calories|\n",
            "|-----------------------------|\n",
            "|Percentile 3 | 55.6  calories|\n",
            "|-----------------------------|\n",
            "|Percentile 4 | 70.0  calories|\n",
            "|-----------------------------|\n",
            "\n",
            "•The lowest percentile above 60 calories is  4\n",
            "\n",
            "•The percentage of cereals with more than 60 calories per portion is:  96 %\n",
            "\n",
            "•The standard deviation of the competence's calories is  19.36 , this means that the calories varies around 19 from the average(106)\n"
          ]
        }
      ],
      "source": [
        "#Firt of all,I cloned my github repositorie to use the cereal.csv file that is saved there and contains the data for the exercise\n",
        "!git clone https://github.com/estebanr2/EstebanCrunchies.git\n",
        "import numpy as np\n",
        "\n",
        "calorie_stats = np.genfromtxt('EstebanCrunchies/cereal.csv', delimiter = ',')\n",
        "\n",
        "#Sorted\n",
        "sorted_calories = np.sort(calorie_stats)\n",
        "print(\"\\n \\033[1m•Organized data\\033[0m \\n\\n\",calorie_stats)\n",
        "#Average\n",
        "average_calories = np.mean(calorie_stats)\n",
        "print(\"\\n•The average calories of the competence are\",round(average_calories,1),\", wich are\",round(average_calories-60,1), \"more than CrunchieMunchies\" )\n",
        "#Median\n",
        "median_calories = np.median(calorie_stats)\n",
        "print(\"\\n•The median of competence's calories is \", median_calories)\n",
        "#Lowest Percentile\n",
        "print()\n",
        "percentile = 0\n",
        "nth_percentile = 0\n",
        "while nth_percentile<60:\n",
        "  nth_percentile =round((np.percentile(sorted_calories,percentile)),1)\n",
        "  percentile+=1\n",
        "  print (\"|Percentile\",percentile-1,\"|\",nth_percentile,\" calories|\")\n",
        "  print(\"|-----------------------------|\")\n",
        "print(\"\\n•The lowest percentile above 60 calories is \",percentile-1)\n",
        "#Cereal Percentage\n",
        "more_calories = (len(calorie_stats[calorie_stats > 60])) / len(calorie_stats) * 100\n",
        "print(\"\\n•The percentage of cereals with more than 60 calories per portion is: \",round(more_calories,),\"%\")\n",
        "#Standard Deviation\n",
        "calories_std = np.std(calorie_stats)\n",
        "print(\"\\n•The standard deviation of the competence's calories is \", round(calories_std,2),\", this means that the calories varies around 19 from the average(106)\")"
      ]
    }
  ]
}