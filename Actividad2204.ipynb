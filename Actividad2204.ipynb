{
  "nbformat": 4,
  "nbformat_minor": 0,
  "metadata": {
    "colab": {
      "provenance": [],
      "authorship_tag": "ABX9TyNb6ngB0H3w8/WyQssqFL86",
      "include_colab_link": true
    },
    "kernelspec": {
      "name": "python3",
      "display_name": "Python 3"
    },
    "language_info": {
      "name": "python"
    }
  },
  "cells": [
    {
      "cell_type": "markdown",
      "metadata": {
        "id": "view-in-github",
        "colab_type": "text"
      },
      "source": [
        "<a href=\"https://colab.research.google.com/github/estebanr2/EstebanCrunchies/blob/main/Actividad2204.ipynb\" target=\"_parent\"><img src=\"https://colab.research.google.com/assets/colab-badge.svg\" alt=\"Open In Colab\"/></a>"
      ]
    },
    {
      "cell_type": "code",
      "execution_count": null,
      "metadata": {
        "colab": {
          "base_uri": "https://localhost:8080/"
        },
        "id": "fzyr-S618Yu_",
        "outputId": "cdeb6cdb-6151-4a46-f9a0-087e40333b1f"
      },
      "outputs": [
        {
          "output_type": "stream",
          "name": "stdout",
          "text": [
            "el promedio de la competencia es 47 mas alto que cruchiMuchies\n",
            "La mediana de calorias es:  110.0\n"
          ]
        }
      ],
      "source": [
        "import numpy as np\n",
        "\n",
        "calorie_stats = np.genfromtxt('cereal.csv', delimiter = ',')\n",
        "average_calories = np.mean(calorie_stats)\n",
        "sorted_calories = np.sort(calorie_stats)\n",
        "print(\"el promedio de la competencia es\",round(average_calories-60), \"mas alto que cruchiMuchies\" )\n",
        "median_calories = np.median(calorie_stats)\n",
        "print(\"La mediana de calorias es: \", median_calories)\n",
        "i = 0\n",
        "for nth_percentile>60\n",
        "  i+=1\n",
        "  nth_percentile =np.percentile(sorted_calories,i)\n",
        "  print(nth_percentile)"
      ]
    }
  ]
}